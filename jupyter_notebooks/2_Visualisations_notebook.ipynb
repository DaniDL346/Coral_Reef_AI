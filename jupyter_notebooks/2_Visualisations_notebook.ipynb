{
 "cells": [
  {
   "cell_type": "markdown",
   "id": "b2835f69",
   "metadata": {},
   "source": [
    "# Section 2: Visualisations"
   ]
  },
  {
   "cell_type": "markdown",
   "id": "1e69f963",
   "metadata": {},
   "source": [
    "## Objectives:"
   ]
  },
  {
   "cell_type": "markdown",
   "id": "621d144d",
   "metadata": {},
   "source": [
    " This visualisations notebook expands on the ETL notebook. It uses the cleaned data \"corals_worldwide_dataset_cleaned.csv\" \n",
    " to create advanced visualisations for investigating the Coral Reef dataset."
   ]
  },
  {
   "cell_type": "markdown",
   "id": "9f85d63a",
   "metadata": {},
   "source": [
    "## Input Data:"
   ]
  },
  {
   "cell_type": "markdown",
   "id": "b5cdf347",
   "metadata": {},
   "source": [
    "The input data can be found under \"Dataset/cleaned/ \"\n",
    "The name of the file is called:\n",
    "\n",
    "\"corals_worldwide_dataset_cleaned.csv\""
   ]
  },
  {
   "cell_type": "markdown",
   "id": "0755a84d",
   "metadata": {},
   "source": [
    "___"
   ]
  },
  {
   "cell_type": "markdown",
   "id": "bc245d50",
   "metadata": {},
   "source": [
    "# Change working directory"
   ]
  },
  {
   "cell_type": "markdown",
   "id": "45bf4e40",
   "metadata": {},
   "source": [
    "* We are assuming you will store the notebooks in a subfolder, therefore when running the notebook in the editor, you will need to change the working directory"
   ]
  },
  {
   "cell_type": "markdown",
   "id": "360ebd84",
   "metadata": {},
   "source": [
    "We need to change the working directory from its current folder to its parent folder"
   ]
  },
  {
   "cell_type": "markdown",
   "id": "d5dc4867",
   "metadata": {},
   "source": [
    "* We access the current directory with os.getcwd()"
   ]
  },
  {
   "cell_type": "code",
   "execution_count": 6,
   "id": "bbfe8c47",
   "metadata": {},
   "outputs": [
    {
     "data": {
      "text/plain": [
       "'/Users/danielledelouw/Documents/code_institute/Coral_Reef_AI/Coral_Reef_AI/jupyter_notebooks'"
      ]
     },
     "execution_count": 6,
     "metadata": {},
     "output_type": "execute_result"
    }
   ],
   "source": [
    "import os\n",
    "current_dir = os.getcwd()\n",
    "current_dir"
   ]
  },
  {
   "cell_type": "markdown",
   "id": "f4eb4ec1",
   "metadata": {},
   "source": [
    "We want to make the parent of the current directory the new current directory"
   ]
  },
  {
   "cell_type": "markdown",
   "id": "3a3eb442",
   "metadata": {},
   "source": [
    "* os.path.dirname() gets the parent directory\n",
    "* os.chir() defines the new current directory"
   ]
  },
  {
   "cell_type": "code",
   "execution_count": 7,
   "id": "53eb991b",
   "metadata": {},
   "outputs": [
    {
     "name": "stdout",
     "output_type": "stream",
     "text": [
      "You set a new current directory\n"
     ]
    }
   ],
   "source": [
    "os.chdir(os.path.dirname(current_dir))\n",
    "print(\"You set a new current directory\")"
   ]
  },
  {
   "cell_type": "markdown",
   "id": "840635a3",
   "metadata": {},
   "source": [
    "Confirm the new current directory"
   ]
  },
  {
   "cell_type": "code",
   "execution_count": 8,
   "id": "90cc6463",
   "metadata": {},
   "outputs": [
    {
     "data": {
      "text/plain": [
       "'/Users/danielledelouw/Documents/code_institute/Coral_Reef_AI/Coral_Reef_AI'"
      ]
     },
     "execution_count": 8,
     "metadata": {},
     "output_type": "execute_result"
    }
   ],
   "source": [
    "current_dir = os.getcwd()\n",
    "current_dir"
   ]
  },
  {
   "cell_type": "markdown",
   "id": "b31b23e2",
   "metadata": {},
   "source": [
    "## Load Python Libraries"
   ]
  },
  {
   "cell_type": "code",
   "execution_count": 9,
   "id": "4da3d64e",
   "metadata": {},
   "outputs": [],
   "source": [
    "import pandas as pd\n",
    "import seaborn as sns \n",
    "import matplotlib.pyplot as plt\n",
    "import numpy as np"
   ]
  },
  {
   "cell_type": "markdown",
   "id": "d4b77b0b",
   "metadata": {},
   "source": [
    "## Load Cleaned Data:"
   ]
  },
  {
   "cell_type": "code",
   "execution_count": 10,
   "id": "4ce27480",
   "metadata": {},
   "outputs": [
    {
     "data": {
      "text/html": [
       "<div>\n",
       "<style scoped>\n",
       "    .dataframe tbody tr th:only-of-type {\n",
       "        vertical-align: middle;\n",
       "    }\n",
       "\n",
       "    .dataframe tbody tr th {\n",
       "        vertical-align: top;\n",
       "    }\n",
       "\n",
       "    .dataframe thead th {\n",
       "        text-align: right;\n",
       "    }\n",
       "</style>\n",
       "<table border=\"1\" class=\"dataframe\">\n",
       "  <thead>\n",
       "    <tr style=\"text-align: right;\">\n",
       "      <th></th>\n",
       "      <th>name</th>\n",
       "      <th>salinity</th>\n",
       "      <th>January_temp</th>\n",
       "      <th>June_temp</th>\n",
       "      <th>area</th>\n",
       "      <th>latitude</th>\n",
       "      <th>longitude</th>\n",
       "      <th>type_of_sea</th>\n",
       "      <th>corals</th>\n",
       "      <th>silt_or_sulfide</th>\n",
       "    </tr>\n",
       "  </thead>\n",
       "  <tbody>\n",
       "    <tr>\n",
       "      <th>0</th>\n",
       "      <td>Adriatic Sea</td>\n",
       "      <td>38.298527</td>\n",
       "      <td>15.658799</td>\n",
       "      <td>20.855299</td>\n",
       "      <td>138000</td>\n",
       "      <td>43</td>\n",
       "      <td>15</td>\n",
       "      <td>2</td>\n",
       "      <td>1</td>\n",
       "      <td>0</td>\n",
       "    </tr>\n",
       "    <tr>\n",
       "      <th>1</th>\n",
       "      <td>Adriatic Sea</td>\n",
       "      <td>38.304909</td>\n",
       "      <td>16.297098</td>\n",
       "      <td>19.501200</td>\n",
       "      <td>138000</td>\n",
       "      <td>43</td>\n",
       "      <td>15</td>\n",
       "      <td>2</td>\n",
       "      <td>1</td>\n",
       "      <td>0</td>\n",
       "    </tr>\n",
       "    <tr>\n",
       "      <th>2</th>\n",
       "      <td>Adriatic Sea</td>\n",
       "      <td>38.462040</td>\n",
       "      <td>16.251598</td>\n",
       "      <td>19.028500</td>\n",
       "      <td>138000</td>\n",
       "      <td>43</td>\n",
       "      <td>15</td>\n",
       "      <td>2</td>\n",
       "      <td>1</td>\n",
       "      <td>0</td>\n",
       "    </tr>\n",
       "    <tr>\n",
       "      <th>3</th>\n",
       "      <td>Adriatic Sea</td>\n",
       "      <td>38.121601</td>\n",
       "      <td>15.709500</td>\n",
       "      <td>22.882999</td>\n",
       "      <td>138000</td>\n",
       "      <td>43</td>\n",
       "      <td>15</td>\n",
       "      <td>2</td>\n",
       "      <td>1</td>\n",
       "      <td>0</td>\n",
       "    </tr>\n",
       "    <tr>\n",
       "      <th>4</th>\n",
       "      <td>Adriatic Sea</td>\n",
       "      <td>38.519196</td>\n",
       "      <td>15.733400</td>\n",
       "      <td>21.824799</td>\n",
       "      <td>138000</td>\n",
       "      <td>43</td>\n",
       "      <td>15</td>\n",
       "      <td>2</td>\n",
       "      <td>1</td>\n",
       "      <td>0</td>\n",
       "    </tr>\n",
       "    <tr>\n",
       "      <th>...</th>\n",
       "      <td>...</td>\n",
       "      <td>...</td>\n",
       "      <td>...</td>\n",
       "      <td>...</td>\n",
       "      <td>...</td>\n",
       "      <td>...</td>\n",
       "      <td>...</td>\n",
       "      <td>...</td>\n",
       "      <td>...</td>\n",
       "      <td>...</td>\n",
       "    </tr>\n",
       "    <tr>\n",
       "      <th>2446</th>\n",
       "      <td>Yellow Sea</td>\n",
       "      <td>31.611076</td>\n",
       "      <td>8.349999</td>\n",
       "      <td>19.500000</td>\n",
       "      <td>380000</td>\n",
       "      <td>38</td>\n",
       "      <td>123</td>\n",
       "      <td>3</td>\n",
       "      <td>0</td>\n",
       "      <td>1</td>\n",
       "    </tr>\n",
       "    <tr>\n",
       "      <th>2447</th>\n",
       "      <td>Yellow Sea</td>\n",
       "      <td>31.468084</td>\n",
       "      <td>8.441801</td>\n",
       "      <td>19.800000</td>\n",
       "      <td>380000</td>\n",
       "      <td>38</td>\n",
       "      <td>123</td>\n",
       "      <td>3</td>\n",
       "      <td>0</td>\n",
       "      <td>1</td>\n",
       "    </tr>\n",
       "    <tr>\n",
       "      <th>2448</th>\n",
       "      <td>Yellow Sea</td>\n",
       "      <td>31.600788</td>\n",
       "      <td>8.432699</td>\n",
       "      <td>20.700000</td>\n",
       "      <td>380000</td>\n",
       "      <td>38</td>\n",
       "      <td>123</td>\n",
       "      <td>3</td>\n",
       "      <td>0</td>\n",
       "      <td>1</td>\n",
       "    </tr>\n",
       "    <tr>\n",
       "      <th>2449</th>\n",
       "      <td>Yellow Sea</td>\n",
       "      <td>31.533226</td>\n",
       "      <td>8.102799</td>\n",
       "      <td>19.000000</td>\n",
       "      <td>380000</td>\n",
       "      <td>38</td>\n",
       "      <td>123</td>\n",
       "      <td>3</td>\n",
       "      <td>0</td>\n",
       "      <td>1</td>\n",
       "    </tr>\n",
       "    <tr>\n",
       "      <th>2450</th>\n",
       "      <td>Yellow Sea</td>\n",
       "      <td>30.992769</td>\n",
       "      <td>7.899599</td>\n",
       "      <td>20.700000</td>\n",
       "      <td>380000</td>\n",
       "      <td>38</td>\n",
       "      <td>123</td>\n",
       "      <td>3</td>\n",
       "      <td>0</td>\n",
       "      <td>1</td>\n",
       "    </tr>\n",
       "  </tbody>\n",
       "</table>\n",
       "<p>2451 rows × 10 columns</p>\n",
       "</div>"
      ],
      "text/plain": [
       "              name   salinity  January_temp  June_temp    area  latitude  \\\n",
       "0     Adriatic Sea  38.298527     15.658799  20.855299  138000        43   \n",
       "1     Adriatic Sea  38.304909     16.297098  19.501200  138000        43   \n",
       "2     Adriatic Sea  38.462040     16.251598  19.028500  138000        43   \n",
       "3     Adriatic Sea  38.121601     15.709500  22.882999  138000        43   \n",
       "4     Adriatic Sea  38.519196     15.733400  21.824799  138000        43   \n",
       "...            ...        ...           ...        ...     ...       ...   \n",
       "2446    Yellow Sea  31.611076      8.349999  19.500000  380000        38   \n",
       "2447    Yellow Sea  31.468084      8.441801  19.800000  380000        38   \n",
       "2448    Yellow Sea  31.600788      8.432699  20.700000  380000        38   \n",
       "2449    Yellow Sea  31.533226      8.102799  19.000000  380000        38   \n",
       "2450    Yellow Sea  30.992769      7.899599  20.700000  380000        38   \n",
       "\n",
       "      longitude  type_of_sea  corals  silt_or_sulfide  \n",
       "0            15            2       1                0  \n",
       "1            15            2       1                0  \n",
       "2            15            2       1                0  \n",
       "3            15            2       1                0  \n",
       "4            15            2       1                0  \n",
       "...         ...          ...     ...              ...  \n",
       "2446        123            3       0                1  \n",
       "2447        123            3       0                1  \n",
       "2448        123            3       0                1  \n",
       "2449        123            3       0                1  \n",
       "2450        123            3       0                1  \n",
       "\n",
       "[2451 rows x 10 columns]"
      ]
     },
     "execution_count": 10,
     "metadata": {},
     "output_type": "execute_result"
    }
   ],
   "source": [
    "df = pd.read_csv('Dataset/cleaned/corals_worldwide_dataset_cleaned.csv')\n",
    "df"
   ]
  },
  {
   "cell_type": "code",
   "execution_count": null,
   "id": "6e6e3a95",
   "metadata": {},
   "outputs": [],
   "source": []
  }
 ],
 "metadata": {
  "kernelspec": {
   "display_name": "Python 3",
   "language": "python",
   "name": "python3"
  },
  "language_info": {
   "codemirror_mode": {
    "name": "ipython",
    "version": 3
   },
   "file_extension": ".py",
   "mimetype": "text/x-python",
   "name": "python",
   "nbconvert_exporter": "python",
   "pygments_lexer": "ipython3",
   "version": "3.12.8"
  }
 },
 "nbformat": 4,
 "nbformat_minor": 5
}

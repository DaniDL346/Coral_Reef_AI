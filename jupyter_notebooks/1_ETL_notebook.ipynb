{
  "cells": [
    {
      "cell_type": "markdown",
      "metadata": {
        "id": "0aStgWSO0E0E"
      },
      "source": [
        "# **Coral Reef AI**"
      ]
    },
    {
      "cell_type": "markdown",
      "metadata": {
        "id": "1eLEkw5O0ECa"
      },
      "source": [
        "## Objectives\n",
        "\n",
        "* To investigate where Coral Reefs are located globally and to understand the conditions that determine their ecosystem health status in various regions.\n",
        "\n",
        "The Kaggle dataset called \"Corals Worldwide Distribution\", was used as raw data and saved under the raw folder, [here]( https://www.kaggle.com/datasets/natalialimanska/corals-worldwide-distribution/data) is the link to the Kaggle website.\n",
        "\n",
        "## Inputs\n",
        "\n",
        "* The input was \"corals_worldwide_dataset.csv\"\n",
        "\n",
        "## Outputs\n",
        "\n",
        "* The output was \"corals_worldwide_dataset_cleaned.csv\"\n"
      ]
    },
    {
      "cell_type": "markdown",
      "metadata": {
        "id": "9uWZXH9LwoQg"
      },
      "source": [
        "---"
      ]
    },
    {
      "cell_type": "markdown",
      "metadata": {
        "id": "cqP-UeN-z3i2"
      },
      "source": [
        "# Change working directory"
      ]
    },
    {
      "cell_type": "markdown",
      "metadata": {},
      "source": [
        "* We are assuming you will store the notebooks in a subfolder, therefore when running the notebook in the editor, you will need to change the working directory"
      ]
    },
    {
      "cell_type": "markdown",
      "metadata": {
        "id": "aOGIGS-uz3i2"
      },
      "source": [
        "We need to change the working directory from its current folder to its parent folder\n",
        "* We access the current directory with os.getcwd()"
      ]
    },
    {
      "cell_type": "code",
      "execution_count": 1,
      "metadata": {
        "id": "wZfF_j-Bz3i4",
        "outputId": "66943449-1436-4c3d-85c7-b85f9f78349b"
      },
      "outputs": [
        {
          "data": {
            "text/plain": [
              "'/Users/danielledelouw/Documents/code_institute/Coral_Reef_AI/Coral_Reef_AI/jupyter_notebooks'"
            ]
          },
          "execution_count": 1,
          "metadata": {},
          "output_type": "execute_result"
        }
      ],
      "source": [
        "import os\n",
        "current_dir = os.getcwd()\n",
        "current_dir"
      ]
    },
    {
      "cell_type": "markdown",
      "metadata": {
        "id": "9MWW8E7lz3i7"
      },
      "source": [
        "We want to make the parent of the current directory the new current directory\n",
        "* os.path.dirname() gets the parent directory\n",
        "* os.chir() defines the new current directory"
      ]
    },
    {
      "cell_type": "code",
      "execution_count": 2,
      "metadata": {
        "id": "TwHsQRWjz3i9",
        "outputId": "86849db3-cd2f-4cc5-ebb8-2d0caafa1a2c"
      },
      "outputs": [
        {
          "name": "stdout",
          "output_type": "stream",
          "text": [
            "You set a new current directory\n"
          ]
        }
      ],
      "source": [
        "os.chdir(os.path.dirname(current_dir))\n",
        "print(\"You set a new current directory\")"
      ]
    },
    {
      "cell_type": "markdown",
      "metadata": {
        "id": "M_xPk_Ijz3i-"
      },
      "source": [
        "Confirm the new current directory"
      ]
    },
    {
      "cell_type": "code",
      "execution_count": 3,
      "metadata": {
        "id": "vz3S-_kjz3jA",
        "outputId": "00b79ae4-75d0-4a96-d193-ac9ef9847ea2"
      },
      "outputs": [
        {
          "data": {
            "text/plain": [
              "'/Users/danielledelouw/Documents/code_institute/Coral_Reef_AI/Coral_Reef_AI'"
            ]
          },
          "execution_count": 3,
          "metadata": {},
          "output_type": "execute_result"
        }
      ],
      "source": [
        "current_dir = os.getcwd()\n",
        "current_dir"
      ]
    },
    {
      "cell_type": "markdown",
      "metadata": {
        "id": "-mavJ8DibrcQ"
      },
      "source": [
        "# Section 1"
      ]
    },
    {
      "cell_type": "code",
      "execution_count": 9,
      "metadata": {},
      "outputs": [],
      "source": [
        "#Load python libraries\n",
        "import pandas as pd\n",
        "import seaborn as sns \n",
        "import matplotlib.pyplot as plt\n",
        "import numpy as np"
      ]
    },
    {
      "cell_type": "markdown",
      "metadata": {},
      "source": [
        "Section 1  Extraction: Load the Dataset"
      ]
    },
    {
      "cell_type": "code",
      "execution_count": 10,
      "metadata": {},
      "outputs": [
        {
          "name": "stdout",
          "output_type": "stream",
          "text": [
            "Loading Corals Worldwide Dataset data\n"
          ]
        },
        {
          "data": {
            "text/html": [
              "<div>\n",
              "<style scoped>\n",
              "    .dataframe tbody tr th:only-of-type {\n",
              "        vertical-align: middle;\n",
              "    }\n",
              "\n",
              "    .dataframe tbody tr th {\n",
              "        vertical-align: top;\n",
              "    }\n",
              "\n",
              "    .dataframe thead th {\n",
              "        text-align: right;\n",
              "    }\n",
              "</style>\n",
              "<table border=\"1\" class=\"dataframe\">\n",
              "  <thead>\n",
              "    <tr style=\"text-align: right;\">\n",
              "      <th></th>\n",
              "      <th>name</th>\n",
              "      <th>salinity</th>\n",
              "      <th>January_temp</th>\n",
              "      <th>June_temp</th>\n",
              "      <th>area</th>\n",
              "      <th>latitude</th>\n",
              "      <th>longitude</th>\n",
              "      <th>type of sea</th>\n",
              "      <th>corals</th>\n",
              "      <th>silt/sulfide</th>\n",
              "    </tr>\n",
              "  </thead>\n",
              "  <tbody>\n",
              "    <tr>\n",
              "      <th>0</th>\n",
              "      <td>Adriatic Sea</td>\n",
              "      <td>38.298527</td>\n",
              "      <td>15.658799</td>\n",
              "      <td>20.855299</td>\n",
              "      <td>138000</td>\n",
              "      <td>43</td>\n",
              "      <td>15</td>\n",
              "      <td>2</td>\n",
              "      <td>1</td>\n",
              "      <td>0</td>\n",
              "    </tr>\n",
              "    <tr>\n",
              "      <th>1</th>\n",
              "      <td>Adriatic Sea</td>\n",
              "      <td>38.304909</td>\n",
              "      <td>16.297098</td>\n",
              "      <td>19.501200</td>\n",
              "      <td>138000</td>\n",
              "      <td>43</td>\n",
              "      <td>15</td>\n",
              "      <td>2</td>\n",
              "      <td>1</td>\n",
              "      <td>0</td>\n",
              "    </tr>\n",
              "    <tr>\n",
              "      <th>2</th>\n",
              "      <td>Adriatic Sea</td>\n",
              "      <td>38.462040</td>\n",
              "      <td>16.251598</td>\n",
              "      <td>19.028500</td>\n",
              "      <td>138000</td>\n",
              "      <td>43</td>\n",
              "      <td>15</td>\n",
              "      <td>2</td>\n",
              "      <td>1</td>\n",
              "      <td>0</td>\n",
              "    </tr>\n",
              "    <tr>\n",
              "      <th>3</th>\n",
              "      <td>Adriatic Sea</td>\n",
              "      <td>38.121601</td>\n",
              "      <td>15.709500</td>\n",
              "      <td>22.882999</td>\n",
              "      <td>138000</td>\n",
              "      <td>43</td>\n",
              "      <td>15</td>\n",
              "      <td>2</td>\n",
              "      <td>1</td>\n",
              "      <td>0</td>\n",
              "    </tr>\n",
              "    <tr>\n",
              "      <th>4</th>\n",
              "      <td>Adriatic Sea</td>\n",
              "      <td>38.519196</td>\n",
              "      <td>15.733400</td>\n",
              "      <td>21.824799</td>\n",
              "      <td>138000</td>\n",
              "      <td>43</td>\n",
              "      <td>15</td>\n",
              "      <td>2</td>\n",
              "      <td>1</td>\n",
              "      <td>0</td>\n",
              "    </tr>\n",
              "    <tr>\n",
              "      <th>...</th>\n",
              "      <td>...</td>\n",
              "      <td>...</td>\n",
              "      <td>...</td>\n",
              "      <td>...</td>\n",
              "      <td>...</td>\n",
              "      <td>...</td>\n",
              "      <td>...</td>\n",
              "      <td>...</td>\n",
              "      <td>...</td>\n",
              "      <td>...</td>\n",
              "    </tr>\n",
              "    <tr>\n",
              "      <th>2446</th>\n",
              "      <td>Yellow Sea</td>\n",
              "      <td>31.611076</td>\n",
              "      <td>8.349999</td>\n",
              "      <td>19.500000</td>\n",
              "      <td>380000</td>\n",
              "      <td>38</td>\n",
              "      <td>123</td>\n",
              "      <td>3</td>\n",
              "      <td>0</td>\n",
              "      <td>1</td>\n",
              "    </tr>\n",
              "    <tr>\n",
              "      <th>2447</th>\n",
              "      <td>Yellow Sea</td>\n",
              "      <td>31.468084</td>\n",
              "      <td>8.441801</td>\n",
              "      <td>19.800000</td>\n",
              "      <td>380000</td>\n",
              "      <td>38</td>\n",
              "      <td>123</td>\n",
              "      <td>3</td>\n",
              "      <td>0</td>\n",
              "      <td>1</td>\n",
              "    </tr>\n",
              "    <tr>\n",
              "      <th>2448</th>\n",
              "      <td>Yellow Sea</td>\n",
              "      <td>31.600788</td>\n",
              "      <td>8.432699</td>\n",
              "      <td>20.700000</td>\n",
              "      <td>380000</td>\n",
              "      <td>38</td>\n",
              "      <td>123</td>\n",
              "      <td>3</td>\n",
              "      <td>0</td>\n",
              "      <td>1</td>\n",
              "    </tr>\n",
              "    <tr>\n",
              "      <th>2449</th>\n",
              "      <td>Yellow Sea</td>\n",
              "      <td>31.533226</td>\n",
              "      <td>8.102799</td>\n",
              "      <td>19.000000</td>\n",
              "      <td>380000</td>\n",
              "      <td>38</td>\n",
              "      <td>123</td>\n",
              "      <td>3</td>\n",
              "      <td>0</td>\n",
              "      <td>1</td>\n",
              "    </tr>\n",
              "    <tr>\n",
              "      <th>2450</th>\n",
              "      <td>Yellow Sea</td>\n",
              "      <td>30.992769</td>\n",
              "      <td>7.899599</td>\n",
              "      <td>20.700000</td>\n",
              "      <td>380000</td>\n",
              "      <td>38</td>\n",
              "      <td>123</td>\n",
              "      <td>3</td>\n",
              "      <td>0</td>\n",
              "      <td>1</td>\n",
              "    </tr>\n",
              "  </tbody>\n",
              "</table>\n",
              "<p>2451 rows × 10 columns</p>\n",
              "</div>"
            ],
            "text/plain": [
              "              name   salinity  January_temp  June_temp    area  latitude  \\\n",
              "0     Adriatic Sea  38.298527     15.658799  20.855299  138000        43   \n",
              "1     Adriatic Sea  38.304909     16.297098  19.501200  138000        43   \n",
              "2     Adriatic Sea  38.462040     16.251598  19.028500  138000        43   \n",
              "3     Adriatic Sea  38.121601     15.709500  22.882999  138000        43   \n",
              "4     Adriatic Sea  38.519196     15.733400  21.824799  138000        43   \n",
              "...            ...        ...           ...        ...     ...       ...   \n",
              "2446    Yellow Sea  31.611076      8.349999  19.500000  380000        38   \n",
              "2447    Yellow Sea  31.468084      8.441801  19.800000  380000        38   \n",
              "2448    Yellow Sea  31.600788      8.432699  20.700000  380000        38   \n",
              "2449    Yellow Sea  31.533226      8.102799  19.000000  380000        38   \n",
              "2450    Yellow Sea  30.992769      7.899599  20.700000  380000        38   \n",
              "\n",
              "      longitude  type of sea  corals  silt/sulfide  \n",
              "0            15            2       1             0  \n",
              "1            15            2       1             0  \n",
              "2            15            2       1             0  \n",
              "3            15            2       1             0  \n",
              "4            15            2       1             0  \n",
              "...         ...          ...     ...           ...  \n",
              "2446        123            3       0             1  \n",
              "2447        123            3       0             1  \n",
              "2448        123            3       0             1  \n",
              "2449        123            3       0             1  \n",
              "2450        123            3       0             1  \n",
              "\n",
              "[2451 rows x 10 columns]"
            ]
          },
          "execution_count": 10,
          "metadata": {},
          "output_type": "execute_result"
        }
      ],
      "source": [
        "#read csv\n",
        "print(\"Loading Corals Worldwide Dataset data\")\n",
        "df = pd.read_csv('Dataset/raw/corals_worldwide_dataset.csv')\n",
        "df"
      ]
    },
    {
      "cell_type": "code",
      "execution_count": null,
      "metadata": {},
      "outputs": [
        {
          "name": "stdout",
          "output_type": "stream",
          "text": [
            "Initial shape: (2451, 10)\n",
            "           name   salinity  January_temp  June_temp    area  latitude  \\\n",
            "0  Adriatic Sea  38.298527     15.658799  20.855299  138000        43   \n",
            "1  Adriatic Sea  38.304909     16.297098  19.501200  138000        43   \n",
            "2  Adriatic Sea  38.462040     16.251598  19.028500  138000        43   \n",
            "3  Adriatic Sea  38.121601     15.709500  22.882999  138000        43   \n",
            "4  Adriatic Sea  38.519196     15.733400  21.824799  138000        43   \n",
            "\n",
            "   longitude  type of sea  corals  silt/sulfide  \n",
            "0         15            2       1             0  \n",
            "1         15            2       1             0  \n",
            "2         15            2       1             0  \n",
            "3         15            2       1             0  \n",
            "4         15            2       1             0  \n"
          ]
        }
      ],
      "source": [
        "#  Initial Inspection\n",
        "print(f\"Initial shape:\", df.shape)\n",
        "print(df.head())\n",
        "\n",
        "# The columns type of sea, corals and silt/sulfide are already encoded as integers. No need for encoding.\n",
        "\n",
        "# Column descriptions taken from Kaggel:\n",
        "\n",
        "# name: sea name\n",
        "# salinity: practical salinity units (PSU) of sea water surface\n",
        "# January_temp, June_temp: temperature of sea water surface in Celsius degrees\n",
        "# area: area of sea in square km\n",
        "# latitude, longitude: coordinates rounded\n",
        "# types of sea: 1 - enclosed landlocked, 2 - partly enclosed, 3 - marginal, 4 - no land boundaries\n",
        "# corals: 0 - absence of corals, 1 - presence of corals (Target variable)\n",
        "# specific bottom: 1 - presence of silt/sulfide, 0 - absence of silt/sulfide"
      ]
    },
    {
      "cell_type": "code",
      "execution_count": 22,
      "metadata": {
        "vscode": {
          "languageId": "markdown"
        }
      },
      "outputs": [
        {
          "name": "stdout",
          "output_type": "stream",
          "text": [
            "Checking the DataFrame info:\n",
            "<class 'pandas.core.frame.DataFrame'>\n",
            "RangeIndex: 2451 entries, 0 to 2450\n",
            "Data columns (total 10 columns):\n",
            " #   Column        Non-Null Count  Dtype  \n",
            "---  ------        --------------  -----  \n",
            " 0   name          2451 non-null   object \n",
            " 1   salinity      2451 non-null   float64\n",
            " 2   January_temp  2451 non-null   float64\n",
            " 3   June_temp     2451 non-null   float64\n",
            " 4   area          2451 non-null   int64  \n",
            " 5   latitude      2451 non-null   int64  \n",
            " 6   longitude     2451 non-null   int64  \n",
            " 7   type of sea   2451 non-null   int64  \n",
            " 8   corals        2451 non-null   int64  \n",
            " 9   silt/sulfide  2451 non-null   int64  \n",
            "dtypes: float64(3), int64(6), object(1)\n",
            "memory usage: 191.6+ KB\n"
          ]
        }
      ],
      "source": [
        "# Check the Column contents, null values, and data types\n",
        "\n",
        "# This will help us understand the data better and prepare for further analysis.\n",
        "print(\"Checking the DataFrame info:\") \n",
        "df.info()"
      ]
    },
    {
      "cell_type": "code",
      "execution_count": 21,
      "metadata": {
        "vscode": {
          "languageId": "markdown"
        }
      },
      "outputs": [
        {
          "data": {
            "text/html": [
              "<div>\n",
              "<style scoped>\n",
              "    .dataframe tbody tr th:only-of-type {\n",
              "        vertical-align: middle;\n",
              "    }\n",
              "\n",
              "    .dataframe tbody tr th {\n",
              "        vertical-align: top;\n",
              "    }\n",
              "\n",
              "    .dataframe thead th {\n",
              "        text-align: right;\n",
              "    }\n",
              "</style>\n",
              "<table border=\"1\" class=\"dataframe\">\n",
              "  <thead>\n",
              "    <tr style=\"text-align: right;\">\n",
              "      <th></th>\n",
              "      <th>salinity</th>\n",
              "      <th>January_temp</th>\n",
              "      <th>June_temp</th>\n",
              "      <th>area</th>\n",
              "      <th>latitude</th>\n",
              "      <th>longitude</th>\n",
              "      <th>type of sea</th>\n",
              "      <th>corals</th>\n",
              "      <th>silt/sulfide</th>\n",
              "    </tr>\n",
              "  </thead>\n",
              "  <tbody>\n",
              "    <tr>\n",
              "      <th>count</th>\n",
              "      <td>2451.000000</td>\n",
              "      <td>2451.000000</td>\n",
              "      <td>2451.000000</td>\n",
              "      <td>2.451000e+03</td>\n",
              "      <td>2451.000000</td>\n",
              "      <td>2451.000000</td>\n",
              "      <td>2451.000000</td>\n",
              "      <td>2451.000000</td>\n",
              "      <td>2451.000000</td>\n",
              "    </tr>\n",
              "    <tr>\n",
              "      <th>mean</th>\n",
              "      <td>32.819880</td>\n",
              "      <td>18.026784</td>\n",
              "      <td>21.612658</td>\n",
              "      <td>1.004778e+06</td>\n",
              "      <td>17.804978</td>\n",
              "      <td>77.937169</td>\n",
              "      <td>2.680131</td>\n",
              "      <td>0.860057</td>\n",
              "      <td>0.039984</td>\n",
              "    </tr>\n",
              "    <tr>\n",
              "      <th>std</th>\n",
              "      <td>6.625290</td>\n",
              "      <td>11.069937</td>\n",
              "      <td>10.095466</td>\n",
              "      <td>1.207755e+06</td>\n",
              "      <td>33.877142</td>\n",
              "      <td>53.367369</td>\n",
              "      <td>0.507584</td>\n",
              "      <td>0.346999</td>\n",
              "      <td>0.195961</td>\n",
              "    </tr>\n",
              "    <tr>\n",
              "      <th>min</th>\n",
              "      <td>5.933204</td>\n",
              "      <td>-1.899994</td>\n",
              "      <td>-1.899994</td>\n",
              "      <td>1.150000e+04</td>\n",
              "      <td>-68.000000</td>\n",
              "      <td>0.000000</td>\n",
              "      <td>1.000000</td>\n",
              "      <td>0.000000</td>\n",
              "      <td>0.000000</td>\n",
              "    </tr>\n",
              "    <tr>\n",
              "      <th>25%</th>\n",
              "      <td>32.870247</td>\n",
              "      <td>7.942601</td>\n",
              "      <td>19.500600</td>\n",
              "      <td>2.800000e+05</td>\n",
              "      <td>-5.000000</td>\n",
              "      <td>28.000000</td>\n",
              "      <td>2.000000</td>\n",
              "      <td>1.000000</td>\n",
              "      <td>0.000000</td>\n",
              "    </tr>\n",
              "    <tr>\n",
              "      <th>50%</th>\n",
              "      <td>34.191502</td>\n",
              "      <td>19.670200</td>\n",
              "      <td>24.600000</td>\n",
              "      <td>6.100000e+05</td>\n",
              "      <td>20.000000</td>\n",
              "      <td>65.000000</td>\n",
              "      <td>3.000000</td>\n",
              "      <td>1.000000</td>\n",
              "      <td>0.000000</td>\n",
              "    </tr>\n",
              "    <tr>\n",
              "      <th>75%</th>\n",
              "      <td>36.148840</td>\n",
              "      <td>28.238198</td>\n",
              "      <td>29.620199</td>\n",
              "      <td>1.150000e+06</td>\n",
              "      <td>40.000000</td>\n",
              "      <td>125.000000</td>\n",
              "      <td>3.000000</td>\n",
              "      <td>1.000000</td>\n",
              "      <td>0.000000</td>\n",
              "    </tr>\n",
              "    <tr>\n",
              "      <th>max</th>\n",
              "      <td>40.000000</td>\n",
              "      <td>30.763500</td>\n",
              "      <td>32.300000</td>\n",
              "      <td>5.695000e+06</td>\n",
              "      <td>76.000000</td>\n",
              "      <td>163.000000</td>\n",
              "      <td>3.000000</td>\n",
              "      <td>1.000000</td>\n",
              "      <td>1.000000</td>\n",
              "    </tr>\n",
              "  </tbody>\n",
              "</table>\n",
              "</div>"
            ],
            "text/plain": [
              "          salinity  January_temp    June_temp          area     latitude  \\\n",
              "count  2451.000000   2451.000000  2451.000000  2.451000e+03  2451.000000   \n",
              "mean     32.819880     18.026784    21.612658  1.004778e+06    17.804978   \n",
              "std       6.625290     11.069937    10.095466  1.207755e+06    33.877142   \n",
              "min       5.933204     -1.899994    -1.899994  1.150000e+04   -68.000000   \n",
              "25%      32.870247      7.942601    19.500600  2.800000e+05    -5.000000   \n",
              "50%      34.191502     19.670200    24.600000  6.100000e+05    20.000000   \n",
              "75%      36.148840     28.238198    29.620199  1.150000e+06    40.000000   \n",
              "max      40.000000     30.763500    32.300000  5.695000e+06    76.000000   \n",
              "\n",
              "         longitude  type of sea       corals  silt/sulfide  \n",
              "count  2451.000000  2451.000000  2451.000000   2451.000000  \n",
              "mean     77.937169     2.680131     0.860057      0.039984  \n",
              "std      53.367369     0.507584     0.346999      0.195961  \n",
              "min       0.000000     1.000000     0.000000      0.000000  \n",
              "25%      28.000000     2.000000     1.000000      0.000000  \n",
              "50%      65.000000     3.000000     1.000000      0.000000  \n",
              "75%     125.000000     3.000000     1.000000      0.000000  \n",
              "max     163.000000     3.000000     1.000000      1.000000  "
            ]
          },
          "execution_count": 21,
          "metadata": {},
          "output_type": "execute_result"
        }
      ],
      "source": [
        "# This section provides descriptive statistics for all numerical columns in the dataset, including measures such as count, mean, # standard deviation, minimum, and maximum values. This summary helps to understand the distribution and range of the data, identify # potential outliers, and gain insights into the overall characteristics of the dataset.\n",
        "\n",
        "df.describe(include=[np.number])\n"
      ]
    },
    {
      "cell_type": "code",
      "execution_count": 20,
      "metadata": {
        "vscode": {
          "languageId": "markdown"
        }
      },
      "outputs": [
        {
          "data": {
            "text/plain": [
              "name            0\n",
              "salinity        0\n",
              "January_temp    0\n",
              "June_temp       0\n",
              "area            0\n",
              "latitude        0\n",
              "longitude       0\n",
              "type of sea     0\n",
              "corals          0\n",
              "silt/sulfide    0\n",
              "dtype: int64"
            ]
          },
          "execution_count": 20,
          "metadata": {},
          "output_type": "execute_result"
        }
      ],
      "source": [
        "# Check total null valuesif values in dataframe  \n",
        "df.isnull()\n",
        "df.isnull().sum()"
      ]
    },
    {
      "cell_type": "code",
      "execution_count": 16,
      "metadata": {
        "vscode": {
          "languageId": "markdown"
        }
      },
      "outputs": [
        {
          "name": "stdout",
          "output_type": "stream",
          "text": [
            "Duplicate Rows:\n",
            "Empty DataFrame\n",
            "Columns: [name, salinity, January_temp, June_temp, area, latitude, longitude, type of sea, corals, silt/sulfide]\n",
            "Index: []\n"
          ]
        }
      ],
      "source": [
        "# Identify duplicate rows\n",
        "duplicates = df[df.duplicated()]\n",
        "print(\"Duplicate Rows:\")\n",
        "print(duplicates)\n",
        "\n",
        "#there are no duplicate rows"
      ]
    },
    {
      "cell_type": "code",
      "execution_count": 19,
      "metadata": {
        "vscode": {
          "languageId": "markdown"
        }
      },
      "outputs": [
        {
          "data": {
            "text/plain": [
              "name              51\n",
              "salinity        2421\n",
              "January_temp     962\n",
              "June_temp        955\n",
              "area              49\n",
              "latitude          40\n",
              "longitude         47\n",
              "type of sea        3\n",
              "corals             2\n",
              "silt/sulfide       2\n",
              "dtype: int64"
            ]
          },
          "execution_count": 19,
          "metadata": {},
          "output_type": "execute_result"
        }
      ],
      "source": [
        "# Check for unique values per column\n",
        "df.nunique()"
      ]
    },
    {
      "cell_type": "code",
      "execution_count": 24,
      "metadata": {
        "vscode": {
          "languageId": "markdown"
        }
      },
      "outputs": [
        {
          "data": {
            "text/plain": [
              "name             object\n",
              "salinity        float64\n",
              "January_temp    float64\n",
              "June_temp       float64\n",
              "area              int64\n",
              "latitude          int64\n",
              "longitude         int64\n",
              "type of sea       int64\n",
              "corals            int64\n",
              "silt/sulfide      int64\n",
              "dtype: object"
            ]
          },
          "execution_count": 24,
          "metadata": {},
          "output_type": "execute_result"
        }
      ],
      "source": [
        "# Checking data types\n",
        "df.dtypes"
      ]
    },
    {
      "cell_type": "code",
      "execution_count": null,
      "metadata": {
        "vscode": {
          "languageId": "markdown"
        }
      },
      "outputs": [
        {
          "data": {
            "image/png": "[encoded data removed]",
            "text/plain": [
              "<Figure size 1000x600 with 4 Axes>"
            ]
          },
          "metadata": {},
          "output_type": "display_data"
        }
      ],
      "source": [
        "#boxplots\n",
        "# initialize figure with 4 subplots in a row\n",
        "fig, ax = plt.subplots(1, 4, figsize=(10, 6))\n",
        " \n",
        "# add padding between the subplots\n",
        "plt.subplots_adjust(wspace=0.5) \n",
        " \n",
        "# draw boxplot for salinity in the 1st subplot\n",
        "sns.boxplot(data=df['salinity'], ax=ax[0], color='brown',)\n",
        "ax[0].set_xlabel('salinity')\n",
        " \n",
        "# draw boxplot for January_temp in the 2nd subplot\n",
        "sns.boxplot(data=df['January_temp'], ax=ax[1], color='g')\n",
        "ax[1].set_xlabel('January_temp')\n",
        " \n",
        "# draw boxplot for June_temp in the 3rd subplot\n",
        "sns.boxplot(data=df['June_temp'], ax=ax[2], color='y')\n",
        "ax[2].set_xlabel('June_temp')\n",
        " \n",
        "# finally draw boxplot for area in the 4th subplot\n",
        "sns.boxplot(data=df['area'], ax=ax[3])\n",
        "ax[3].set_xlabel('area')\n",
        " \n",
        "\n",
        "# remove it by setting it to empty list\n",
        "for subplot in ax:\n",
        "    subplot.set_xticklabels([])\n",
        "    \n",
        "plt.show()"
      ]
    },
    {
      "cell_type": "code",
      "execution_count": null,
      "metadata": {
        "vscode": {
          "languageId": "markdown"
        }
      },
      "outputs": [
        {
          "data": {
            "text/html": [
              "<div>\n",
              "<style scoped>\n",
              "    .dataframe tbody tr th:only-of-type {\n",
              "        vertical-align: middle;\n",
              "    }\n",
              "\n",
              "    .dataframe tbody tr th {\n",
              "        vertical-align: top;\n",
              "    }\n",
              "\n",
              "    .dataframe thead th {\n",
              "        text-align: right;\n",
              "    }\n",
              "</style>\n",
              "<table border=\"1\" class=\"dataframe\">\n",
              "  <thead>\n",
              "    <tr style=\"text-align: right;\">\n",
              "      <th></th>\n",
              "      <th>name</th>\n",
              "      <th>salinity</th>\n",
              "      <th>January_temp</th>\n",
              "      <th>June_temp</th>\n",
              "      <th>area</th>\n",
              "      <th>latitude</th>\n",
              "      <th>longitude</th>\n",
              "      <th>type of sea</th>\n",
              "      <th>corals</th>\n",
              "      <th>silt/sulfide</th>\n",
              "    </tr>\n",
              "  </thead>\n",
              "  <tbody>\n",
              "    <tr>\n",
              "      <th>326</th>\n",
              "      <td>Baltic Sea</td>\n",
              "      <td>5.933204</td>\n",
              "      <td>4.961601</td>\n",
              "      <td>14.279199</td>\n",
              "      <td>377000</td>\n",
              "      <td>58</td>\n",
              "      <td>20</td>\n",
              "      <td>2</td>\n",
              "      <td>0</td>\n",
              "      <td>0</td>\n",
              "    </tr>\n",
              "    <tr>\n",
              "      <th>327</th>\n",
              "      <td>Baltic Sea</td>\n",
              "      <td>6.466905</td>\n",
              "      <td>5.477399</td>\n",
              "      <td>9.425598</td>\n",
              "      <td>377000</td>\n",
              "      <td>58</td>\n",
              "      <td>20</td>\n",
              "      <td>2</td>\n",
              "      <td>0</td>\n",
              "      <td>0</td>\n",
              "    </tr>\n",
              "    <tr>\n",
              "      <th>311</th>\n",
              "      <td>Baltic Sea</td>\n",
              "      <td>6.562333</td>\n",
              "      <td>5.100400</td>\n",
              "      <td>10.904599</td>\n",
              "      <td>377000</td>\n",
              "      <td>58</td>\n",
              "      <td>20</td>\n",
              "      <td>2</td>\n",
              "      <td>0</td>\n",
              "      <td>0</td>\n",
              "    </tr>\n",
              "    <tr>\n",
              "      <th>332</th>\n",
              "      <td>Baltic Sea</td>\n",
              "      <td>6.573896</td>\n",
              "      <td>5.331600</td>\n",
              "      <td>9.298100</td>\n",
              "      <td>377000</td>\n",
              "      <td>58</td>\n",
              "      <td>20</td>\n",
              "      <td>2</td>\n",
              "      <td>0</td>\n",
              "      <td>0</td>\n",
              "    </tr>\n",
              "    <tr>\n",
              "      <th>308</th>\n",
              "      <td>Baltic Sea</td>\n",
              "      <td>6.604097</td>\n",
              "      <td>4.980000</td>\n",
              "      <td>10.146399</td>\n",
              "      <td>377000</td>\n",
              "      <td>58</td>\n",
              "      <td>20</td>\n",
              "      <td>2</td>\n",
              "      <td>0</td>\n",
              "      <td>0</td>\n",
              "    </tr>\n",
              "    <tr>\n",
              "      <th>309</th>\n",
              "      <td>Baltic Sea</td>\n",
              "      <td>6.641613</td>\n",
              "      <td>5.203099</td>\n",
              "      <td>9.505800</td>\n",
              "      <td>377000</td>\n",
              "      <td>58</td>\n",
              "      <td>20</td>\n",
              "      <td>2</td>\n",
              "      <td>0</td>\n",
              "      <td>0</td>\n",
              "    </tr>\n",
              "    <tr>\n",
              "      <th>313</th>\n",
              "      <td>Baltic Sea</td>\n",
              "      <td>6.646228</td>\n",
              "      <td>5.026701</td>\n",
              "      <td>10.216198</td>\n",
              "      <td>377000</td>\n",
              "      <td>58</td>\n",
              "      <td>20</td>\n",
              "      <td>2</td>\n",
              "      <td>0</td>\n",
              "      <td>0</td>\n",
              "    </tr>\n",
              "    <tr>\n",
              "      <th>328</th>\n",
              "      <td>Baltic Sea</td>\n",
              "      <td>6.722073</td>\n",
              "      <td>4.980000</td>\n",
              "      <td>10.146399</td>\n",
              "      <td>377000</td>\n",
              "      <td>58</td>\n",
              "      <td>20</td>\n",
              "      <td>2</td>\n",
              "      <td>0</td>\n",
              "      <td>0</td>\n",
              "    </tr>\n",
              "    <tr>\n",
              "      <th>314</th>\n",
              "      <td>Baltic Sea</td>\n",
              "      <td>6.724819</td>\n",
              "      <td>5.050799</td>\n",
              "      <td>10.165199</td>\n",
              "      <td>377000</td>\n",
              "      <td>58</td>\n",
              "      <td>20</td>\n",
              "      <td>2</td>\n",
              "      <td>0</td>\n",
              "      <td>0</td>\n",
              "    </tr>\n",
              "    <tr>\n",
              "      <th>320</th>\n",
              "      <td>Baltic Sea</td>\n",
              "      <td>6.735662</td>\n",
              "      <td>4.951900</td>\n",
              "      <td>11.637699</td>\n",
              "      <td>377000</td>\n",
              "      <td>58</td>\n",
              "      <td>20</td>\n",
              "      <td>2</td>\n",
              "      <td>0</td>\n",
              "      <td>0</td>\n",
              "    </tr>\n",
              "  </tbody>\n",
              "</table>\n",
              "</div>"
            ],
            "text/plain": [
              "           name  salinity  January_temp  June_temp    area  latitude  \\\n",
              "326  Baltic Sea  5.933204      4.961601  14.279199  377000        58   \n",
              "327  Baltic Sea  6.466905      5.477399   9.425598  377000        58   \n",
              "311  Baltic Sea  6.562333      5.100400  10.904599  377000        58   \n",
              "332  Baltic Sea  6.573896      5.331600   9.298100  377000        58   \n",
              "308  Baltic Sea  6.604097      4.980000  10.146399  377000        58   \n",
              "309  Baltic Sea  6.641613      5.203099   9.505800  377000        58   \n",
              "313  Baltic Sea  6.646228      5.026701  10.216198  377000        58   \n",
              "328  Baltic Sea  6.722073      4.980000  10.146399  377000        58   \n",
              "314  Baltic Sea  6.724819      5.050799  10.165199  377000        58   \n",
              "320  Baltic Sea  6.735662      4.951900  11.637699  377000        58   \n",
              "\n",
              "     longitude  type of sea  corals  silt/sulfide  \n",
              "326         20            2       0             0  \n",
              "327         20            2       0             0  \n",
              "311         20            2       0             0  \n",
              "332         20            2       0             0  \n",
              "308         20            2       0             0  \n",
              "309         20            2       0             0  \n",
              "313         20            2       0             0  \n",
              "328         20            2       0             0  \n",
              "314         20            2       0             0  \n",
              "320         20            2       0             0  "
            ]
          },
          "execution_count": 26,
          "metadata": {},
          "output_type": "execute_result"
        }
      ],
      "source": [
        "df_sorted_salinity = df.sort_values(by='salinity', ascending=True) #sorting salinity values ascending\n",
        "df_sorted_salinity.head(10)\n",
        "# corals: 0 - absence of corals, 1 - presence of corals\n",
        "# I am keeping the outliers in the column salinity as they represent where the corals are absent, which is important data"
      ]
    },
    {
      "cell_type": "code",
      "execution_count": 29,
      "metadata": {
        "vscode": {
          "languageId": "markdown"
        }
      },
      "outputs": [
        {
          "data": {
            "image/png": "[encoded data removed]",
            "text/plain": [
              "<Figure size 640x480 with 1 Axes>"
            ]
          },
          "metadata": {},
          "output_type": "display_data"
        }
      ],
      "source": [
        "# salinity histogram plot of values\n",
        "sns.histplot(df, x=df['salinity'])\n",
        "plt.title('Box Plot of Salinity')\n",
        "plt.show()\n",
        "# they are not normally distributed, which is information I want to use to understand the salt content of various locations of coral reefs"
      ]
    },
    {
      "cell_type": "code",
      "execution_count": null,
      "metadata": {
        "vscode": {
          "languageId": "markdown"
        }
      },
      "outputs": [
        {
          "data": {
            "image/png": "[encoded data removed]",
            "text/plain": [
              "<Figure size 1000x600 with 1 Axes>"
            ]
          },
          "metadata": {},
          "output_type": "display_data"
        }
      ],
      "source": [
        "# Melt data for easier plotting\n",
        "df_melted = df[['January_temp', 'June_temp']].melt(var_name='Month', value_name='Temperature')\n",
        "\n",
        "# Plot\n",
        "plt.figure(figsize=(10, 6))\n",
        "sns.histplot(data=df_melted, x='Temperature', hue='Month', bins=15, kde=True, multiple='dodge', palette='Set2')\n",
        "\n",
        "plt.title('Histogram: January vs June Temperatures')\n",
        "plt.xlabel('Temperature (°C)')\n",
        "plt.ylabel('Frequency')\n",
        "plt.grid(True)\n",
        "plt.tight_layout()\n",
        "plt.show()\n",
        "\n",
        "# there are more January temperature data compared to June data, my assumption is that is due to rainy season restrictions as there might be monsoons and storms that hinder data collection.\n",
        "# these are not normally distributed"
      ]
    },
    {
      "cell_type": "code",
      "execution_count": null,
      "metadata": {
        "vscode": {
          "languageId": "markdown"
        }
      },
      "outputs": [
        {
          "name": "stdout",
          "output_type": "stream",
          "text": [
            "\n",
            "name (51 unique values):\n",
            "['Adriatic Sea' 'Aegean Sea' 'Andaman Sea' 'Arabian Sea' 'Arafura Sea'\n",
            " 'Balearic Sea' 'Baltic Sea' 'Banda Sea' 'Barents Sea' 'Bay of Bengal'\n",
            " 'Black Sea' 'Caspian Sea' 'Celebes Sea' 'Coral Sea' 'Cosmonauts Sea'\n",
            " 'East China Sea' 'East Siberian Sea' 'Flores Sea' 'Gulf of Aden'\n",
            " 'Gulf of Carpentaria' 'Gulf of Guinea' 'Gulf of Thailand' 'Ionian Sea'\n",
            " 'Java Sea' 'Laccadive Sea' 'Laptev Sea' 'Lazarev Sea' 'Levantine Sea'\n",
            " 'Libyan Sea' 'Mediterranean Sea' 'Molucca Sea' 'Mozambique Channel'\n",
            " 'North Sea' 'Norwegian Sea' 'Oman Sea' 'Persian Gulf' 'Philippine Sea'\n",
            " 'Red Sea' 'Riiser-Larsen Sea' 'Sea of Azov' 'Sea of Japan'\n",
            " 'Sea of Marmara' 'Sea of Okhotsk' 'Solomon Sea' 'Somov Sea'\n",
            " 'South China Sea' 'Sulu Sea' 'Tasman Sea' 'Timor Sea' 'Tyrrhenian Sea'\n",
            " 'Yellow Sea']\n",
            "\n",
            "corals (2 unique values):\n",
            "[1 0]\n",
            "\n",
            "silt/sulfide (2 unique values):\n",
            "[0 1]\n",
            "\n",
            "type of sea (3 unique values):\n",
            "[2 3 1]\n"
          ]
        }
      ],
      "source": [
        "# Check the contents of a few columns:\n",
        "contents_of_columns = ['name','corals','silt/sulfide','type of sea']\n",
        "for col in contents_of_columns:\n",
        "    print(f\"\\n{col} ({df[col].nunique()} unique values):\")\n",
        "    print(df[col].unique())\n",
        "\n",
        "# name indicates the sea name, corals 0=absent and 1=present, silt and sulfide 0=absent and 1=present, type of sea only has 3 values where Kaggel indicates a possibility of 4 types: 1 = enclosed landlocked, 2 = partly enclosed, 3 = marginal, 4 = no land boundaries(not included)"
      ]
    },
    {
      "cell_type": "code",
      "execution_count": null,
      "metadata": {
        "vscode": {
          "languageId": "markdown"
        }
      },
      "outputs": [],
      "source": []
    },
    {
      "cell_type": "markdown",
      "metadata": {
        "id": "ZY3l0-AxO93d"
      },
      "source": [
        "---"
      ]
    },
    {
      "cell_type": "markdown",
      "metadata": {
        "id": "uFQo3ycuO-v6"
      },
      "source": [
        "# Section 2"
      ]
    },
    {
      "cell_type": "markdown",
      "metadata": {},
      "source": [
        "Section 2 content"
      ]
    },
    {
      "cell_type": "code",
      "execution_count": null,
      "metadata": {},
      "outputs": [],
      "source": []
    },
    {
      "cell_type": "markdown",
      "metadata": {},
      "source": [
        "---"
      ]
    },
    {
      "cell_type": "markdown",
      "metadata": {},
      "source": [
        "NOTE"
      ]
    },
    {
      "cell_type": "markdown",
      "metadata": {},
      "source": [
        "* You may add as many sections as you want, as long as it supports your project workflow.\n",
        "* All notebook's cells should be run top-down (you can't create a dynamic wherein a given point you need to go back to a previous cell to execute some task, like go back to a previous cell and refresh a variable content)"
      ]
    },
    {
      "cell_type": "markdown",
      "metadata": {},
      "source": [
        "---"
      ]
    },
    {
      "cell_type": "markdown",
      "metadata": {
        "id": "ltNetd085qHf"
      },
      "source": [
        "# Push files to Repo"
      ]
    },
    {
      "cell_type": "markdown",
      "metadata": {},
      "source": [
        "* In cases where you don't need to push files to Repo, you may replace this section with \"Conclusions and Next Steps\" and state your conclusions and next steps."
      ]
    },
    {
      "cell_type": "code",
      "execution_count": null,
      "metadata": {
        "id": "aKlnIozA4eQO",
        "outputId": "fd09bc1f-adb1-4511-f6ce-492a6af570c0"
      },
      "outputs": [],
      "source": [
        "import os\n",
        "try:\n",
        "  # create your folder here\n",
        "  # os.makedirs(name='')\n",
        "except Exception as e:\n",
        "  print(e)\n"
      ]
    }
  ],
  "metadata": {
    "accelerator": "GPU",
    "colab": {
      "name": "Data Practitioner Jupyter Notebook.ipynb",
      "provenance": [],
      "toc_visible": true
    },
    "kernelspec": {
      "display_name": "Python 3",
      "language": "python",
      "name": "python3"
    },
    "language_info": {
      "codemirror_mode": {
        "name": "ipython",
        "version": 3
      },
      "file_extension": ".py",
      "mimetype": "text/x-python",
      "name": "python",
      "nbconvert_exporter": "python",
      "pygments_lexer": "ipython3",
      "version": "3.12.8"
    },
    "orig_nbformat": 2
  },
  "nbformat": 4,
  "nbformat_minor": 2
}
